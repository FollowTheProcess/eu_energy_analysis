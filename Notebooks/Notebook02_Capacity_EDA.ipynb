{
 "metadata": {
  "language_info": {
   "codemirror_mode": {
    "name": "ipython",
    "version": 3
   },
   "file_extension": ".py",
   "mimetype": "text/x-python",
   "name": "python",
   "nbconvert_exporter": "python",
   "pygments_lexer": "ipython3",
   "version": "3.8.5-final"
  },
  "orig_nbformat": 2,
  "kernelspec": {
   "name": "python3",
   "display_name": "Python 3.8.5 64-bit",
   "metadata": {
    "interpreter": {
     "hash": "46379e25bbf99610639664e3f762b60a697f9d7166217a168a100658888c06a4"
    }
   }
  }
 },
 "nbformat": 4,
 "nbformat_minor": 2,
 "cells": [
  {
   "source": [
    "# Notebook 02: Generation Capacity EDA\n",
    "\n",
    "In this one we'll load in the cleaned data and just play around with it to see what we can learn"
   ],
   "cell_type": "markdown",
   "metadata": {}
  },
  {
   "cell_type": "code",
   "execution_count": 1,
   "metadata": {},
   "outputs": [
    {
     "output_type": "execute_result",
     "data": {
      "text/plain": [
       "DataTransformerRegistry.enable('data_server')"
      ]
     },
     "metadata": {},
     "execution_count": 1
    }
   ],
   "source": [
    "import pandas as pd\n",
    "from src.data.load_data import GenerationCapacity\n",
    "from pandas_profiling import ProfileReport\n",
    "import altair as alt\n",
    "import altair_data_server\n",
    "\n",
    "alt.data_transformers.enable('data_server')"
   ]
  },
  {
   "cell_type": "code",
   "execution_count": 2,
   "metadata": {},
   "outputs": [],
   "source": [
    "df = GenerationCapacity().load_cleaned()"
   ]
  },
  {
   "cell_type": "code",
   "execution_count": 3,
   "metadata": {},
   "outputs": [
    {
     "output_type": "stream",
     "name": "stdout",
     "text": [
      "<class 'pandas.core.frame.DataFrame'>\nInt64Index: 25493 entries, 0 to 25799\nData columns (total 11 columns):\n #   Column                 Non-Null Count  Dtype   \n---  ------                 --------------  -----   \n 0   technology             25493 non-null  category\n 1   source                 25493 non-null  category\n 2   source_type            25493 non-null  category\n 3   year                   25493 non-null  int64   \n 4   country                25493 non-null  category\n 5   capacity               25493 non-null  float64 \n 6   energy_source_level_0  25493 non-null  int64   \n 7   energy_source_level_1  25493 non-null  int64   \n 8   energy_source_level_2  25493 non-null  int64   \n 9   energy_source_level_3  25493 non-null  int64   \n 10  technology_level       25493 non-null  int64   \ndtypes: category(4), float64(1), int64(6)\nmemory usage: 1.7 MB\n"
     ]
    }
   ],
   "source": [
    "df.info()"
   ]
  },
  {
   "cell_type": "code",
   "execution_count": null,
   "metadata": {},
   "outputs": [],
   "source": []
  }
 ]
}