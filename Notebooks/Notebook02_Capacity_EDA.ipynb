{
 "metadata": {
  "language_info": {
   "codemirror_mode": {
    "name": "ipython",
    "version": 3
   },
   "file_extension": ".py",
   "mimetype": "text/x-python",
   "name": "python",
   "nbconvert_exporter": "python",
   "pygments_lexer": "ipython3",
   "version": "3.8.5-final"
  },
  "orig_nbformat": 2,
  "kernelspec": {
   "name": "python3",
   "display_name": "Python 3.8.5 64-bit ('eu_energy_analysis': conda)",
   "metadata": {
    "interpreter": {
     "hash": "46379e25bbf99610639664e3f762b60a697f9d7166217a168a100658888c06a4"
    }
   }
  }
 },
 "nbformat": 4,
 "nbformat_minor": 2,
 "cells": [
  {
   "source": [
    "# Notebook 02: Generation Capacity EDA\n",
    "\n",
    "In this one we'll load in the cleaned data and just play around with it to see what we can learn"
   ],
   "cell_type": "markdown",
   "metadata": {}
  },
  {
   "cell_type": "code",
   "execution_count": 1,
   "metadata": {},
   "outputs": [
    {
     "output_type": "execute_result",
     "data": {
      "text/plain": [
       "DataTransformerRegistry.enable('data_server')"
      ]
     },
     "metadata": {},
     "execution_count": 1
    }
   ],
   "source": [
    "import pandas as pd\n",
    "from src.data.load_data import GenerationCapacity\n",
    "import altair as alt\n",
    "import altair_data_server\n",
    "\n",
    "alt.data_transformers.enable('data_server')"
   ]
  },
  {
   "source": [
    "### Cleaned Data\n",
    "\n",
    "So you can see now I've cleaned up the generation capacity dataset a bit. If you're interested in the implementation, this is all handled in src/data/load_data.py.\n",
    "\n",
    "Brief summary of cleaning steps:\n",
    "\n",
    "* Converted columns with low unique/total ratio into pd.Categorical (good practice rather than storing expensive generic python objects)\n",
    "\n",
    "* Dropped useless columns like ID, weblink, comment (was empty anyway), capacity_definition (only had one value) etc.\n",
    "\n",
    "* I noticed there were lots of duplicate entries due to this dataset being a concatenation of multiple data sources. So (although simplistic) I felt the best solution was to drop duplicates on a subset of `['technology', 'year', 'country']` meaning that now each record of those values is unique i.e. there is only 1 record for `['Nuclear', '1998', 'GB']` for example\n",
    "\n",
    "* Some misc cleaning of values (e.g. converting 'other or unspecified' to 'other' for neatness)\n",
    "\n",
    "* Converted the year column to a datetime from an integer\n",
    "\n",
    "* Finally, removed any NaNs that may have been hanging around"
   ],
   "cell_type": "markdown",
   "metadata": {}
  },
  {
   "cell_type": "code",
   "execution_count": 2,
   "metadata": {},
   "outputs": [],
   "source": [
    "clean_cap = GenerationCapacity().load_cleaned()"
   ]
  },
  {
   "cell_type": "code",
   "execution_count": 3,
   "metadata": {},
   "outputs": [
    {
     "output_type": "stream",
     "name": "stdout",
     "text": [
      "<class 'pandas.core.frame.DataFrame'>\nInt64Index: 25298 entries, 0 to 25799\nData columns (total 9 columns):\n #   Column                 Non-Null Count  Dtype         \n---  ------                 --------------  -----         \n 0   technology             25298 non-null  category      \n 1   year                   25298 non-null  datetime64[ns]\n 2   country                25298 non-null  category      \n 3   capacity               25298 non-null  float64       \n 4   energy_source_level_0  25298 non-null  int64         \n 5   energy_source_level_1  25298 non-null  int64         \n 6   energy_source_level_2  25298 non-null  int64         \n 7   energy_source_level_3  25298 non-null  int64         \n 8   technology_level       25298 non-null  int64         \ndtypes: category(2), datetime64[ns](1), float64(1), int64(5)\nmemory usage: 1.6 MB\n"
     ]
    }
   ],
   "source": [
    "clean_cap.info()"
   ]
  },
  {
   "cell_type": "code",
   "execution_count": 4,
   "metadata": {},
   "outputs": [
    {
     "output_type": "execute_result",
     "data": {
      "text/plain": [
       "                                             technology       year country  \\\n",
       "16612                                        Renewables 2005-01-01      NO   \n",
       "11692                                     Photovoltaics 2010-01-01      IS   \n",
       "12083                          Concentrated solar power 2004-01-01      IT   \n",
       "13276                          Concentrated solar power 2016-01-01      LU   \n",
       "1686   Differently categorized renewable energy sources 2018-01-01      ES   \n",
       "4535                                       Fossil fuels 1993-01-01      CY   \n",
       "23891                     Differently categorized hydro 2013-01-01      BE   \n",
       "4884                                      Photovoltaics 2011-01-01      CY   \n",
       "10556                                    Pumped storage 2003-01-01      HU   \n",
       "25703                               Non-renewable waste 2018-01-01      SK   \n",
       "\n",
       "         capacity  energy_source_level_0  energy_source_level_1  \\\n",
       "16612  28900.0000                      0                      1   \n",
       "11692      0.0000                      0                      0   \n",
       "12083      0.0000                      0                      0   \n",
       "13276      0.0000                      0                      0   \n",
       "1686    1025.8405                      0                      0   \n",
       "4535       0.0000                      0                      1   \n",
       "23891   1430.0000                      0                      0   \n",
       "4884      10.0000                      0                      0   \n",
       "10556      0.0000                      0                      0   \n",
       "25703     19.0000                      0                      0   \n",
       "\n",
       "       energy_source_level_2  energy_source_level_3  technology_level  \n",
       "16612                      0                      0                 0  \n",
       "11692                      0                      0                 1  \n",
       "12083                      0                      0                 1  \n",
       "13276                      0                      0                 1  \n",
       "1686                       1                      1                 1  \n",
       "4535                       0                      0                 0  \n",
       "23891                      0                      0                 1  \n",
       "4884                       0                      0                 1  \n",
       "10556                      0                      0                 1  \n",
       "25703                      1                      1                 1  "
      ],
      "text/html": "<div>\n<style scoped>\n    .dataframe tbody tr th:only-of-type {\n        vertical-align: middle;\n    }\n\n    .dataframe tbody tr th {\n        vertical-align: top;\n    }\n\n    .dataframe thead th {\n        text-align: right;\n    }\n</style>\n<table border=\"1\" class=\"dataframe\">\n  <thead>\n    <tr style=\"text-align: right;\">\n      <th></th>\n      <th>technology</th>\n      <th>year</th>\n      <th>country</th>\n      <th>capacity</th>\n      <th>energy_source_level_0</th>\n      <th>energy_source_level_1</th>\n      <th>energy_source_level_2</th>\n      <th>energy_source_level_3</th>\n      <th>technology_level</th>\n    </tr>\n  </thead>\n  <tbody>\n    <tr>\n      <th>16612</th>\n      <td>Renewables</td>\n      <td>2005-01-01</td>\n      <td>NO</td>\n      <td>28900.0000</td>\n      <td>0</td>\n      <td>1</td>\n      <td>0</td>\n      <td>0</td>\n      <td>0</td>\n    </tr>\n    <tr>\n      <th>11692</th>\n      <td>Photovoltaics</td>\n      <td>2010-01-01</td>\n      <td>IS</td>\n      <td>0.0000</td>\n      <td>0</td>\n      <td>0</td>\n      <td>0</td>\n      <td>0</td>\n      <td>1</td>\n    </tr>\n    <tr>\n      <th>12083</th>\n      <td>Concentrated solar power</td>\n      <td>2004-01-01</td>\n      <td>IT</td>\n      <td>0.0000</td>\n      <td>0</td>\n      <td>0</td>\n      <td>0</td>\n      <td>0</td>\n      <td>1</td>\n    </tr>\n    <tr>\n      <th>13276</th>\n      <td>Concentrated solar power</td>\n      <td>2016-01-01</td>\n      <td>LU</td>\n      <td>0.0000</td>\n      <td>0</td>\n      <td>0</td>\n      <td>0</td>\n      <td>0</td>\n      <td>1</td>\n    </tr>\n    <tr>\n      <th>1686</th>\n      <td>Differently categorized renewable energy sources</td>\n      <td>2018-01-01</td>\n      <td>ES</td>\n      <td>1025.8405</td>\n      <td>0</td>\n      <td>0</td>\n      <td>1</td>\n      <td>1</td>\n      <td>1</td>\n    </tr>\n    <tr>\n      <th>4535</th>\n      <td>Fossil fuels</td>\n      <td>1993-01-01</td>\n      <td>CY</td>\n      <td>0.0000</td>\n      <td>0</td>\n      <td>1</td>\n      <td>0</td>\n      <td>0</td>\n      <td>0</td>\n    </tr>\n    <tr>\n      <th>23891</th>\n      <td>Differently categorized hydro</td>\n      <td>2013-01-01</td>\n      <td>BE</td>\n      <td>1430.0000</td>\n      <td>0</td>\n      <td>0</td>\n      <td>0</td>\n      <td>0</td>\n      <td>1</td>\n    </tr>\n    <tr>\n      <th>4884</th>\n      <td>Photovoltaics</td>\n      <td>2011-01-01</td>\n      <td>CY</td>\n      <td>10.0000</td>\n      <td>0</td>\n      <td>0</td>\n      <td>0</td>\n      <td>0</td>\n      <td>1</td>\n    </tr>\n    <tr>\n      <th>10556</th>\n      <td>Pumped storage</td>\n      <td>2003-01-01</td>\n      <td>HU</td>\n      <td>0.0000</td>\n      <td>0</td>\n      <td>0</td>\n      <td>0</td>\n      <td>0</td>\n      <td>1</td>\n    </tr>\n    <tr>\n      <th>25703</th>\n      <td>Non-renewable waste</td>\n      <td>2018-01-01</td>\n      <td>SK</td>\n      <td>19.0000</td>\n      <td>0</td>\n      <td>0</td>\n      <td>1</td>\n      <td>1</td>\n      <td>1</td>\n    </tr>\n  </tbody>\n</table>\n</div>"
     },
     "metadata": {},
     "execution_count": 4
    }
   ],
   "source": [
    "clean_cap.sample(10)"
   ]
  },
  {
   "cell_type": "code",
   "execution_count": 5,
   "metadata": {},
   "outputs": [
    {
     "output_type": "stream",
     "name": "stdout",
     "text": [
      "<class 'pandas.core.frame.DataFrame'>\nInt64Index: 25298 entries, 0 to 25799\nData columns (total 9 columns):\n #   Column                 Non-Null Count  Dtype         \n---  ------                 --------------  -----         \n 0   technology             25298 non-null  category      \n 1   year                   25298 non-null  datetime64[ns]\n 2   country                25298 non-null  category      \n 3   capacity               25298 non-null  float64       \n 4   energy_source_level_0  25298 non-null  int64         \n 5   energy_source_level_1  25298 non-null  int64         \n 6   energy_source_level_2  25298 non-null  int64         \n 7   energy_source_level_3  25298 non-null  int64         \n 8   technology_level       25298 non-null  int64         \ndtypes: category(2), datetime64[ns](1), float64(1), int64(5)\nmemory usage: 1.6 MB\n"
     ]
    }
   ],
   "source": [
    "clean_cap.info()"
   ]
  },
  {
   "source": [
    "#### Sub-selections\n",
    "\n",
    "Recall that the `energy_source_level_n` columns refer to how aggregated the data is. With `n=0` being total, `n=1` being split by category, `n=2` being split by individual fuel etc.\n",
    "\n",
    "This might come in handy to refer to quickly so rather than do a filter every time, I'm going to implement it in the `GenerationCapacity` class."
   ],
   "cell_type": "markdown",
   "metadata": {}
  },
  {
   "cell_type": "code",
   "execution_count": 6,
   "metadata": {},
   "outputs": [],
   "source": [
    "# Load sub-selection dataframes\n",
    "totals = GenerationCapacity().load_cleaned(level = 'total')\n",
    "types = GenerationCapacity().load_cleaned(level = 'type')\n",
    "fuels = GenerationCapacity().load_cleaned(level = 'fuel')"
   ]
  },
  {
   "source": [
    "Let's take a look at a high level how the energy sources differ between countries...\n",
    "\n",
    "The easiest, high level way of doing this is simply to take an average of the generation capacity by source for each of the countries. Luckily, Altair makes this super easy!\n",
    "\n",
    "Reason #2875 why Altair is the best python visualisation library!"
   ],
   "cell_type": "markdown",
   "metadata": {}
  },
  {
   "cell_type": "code",
   "execution_count": 7,
   "metadata": {},
   "outputs": [
    {
     "output_type": "execute_result",
     "data": {
      "text/html": "\n<div id=\"altair-viz-41d7be5ec243445f9ce622d32014dc75\"></div>\n<script type=\"text/javascript\">\n  (function(spec, embedOpt){\n    let outputDiv = document.currentScript.previousElementSibling;\n    if (outputDiv.id !== \"altair-viz-41d7be5ec243445f9ce622d32014dc75\") {\n      outputDiv = document.getElementById(\"altair-viz-41d7be5ec243445f9ce622d32014dc75\");\n    }\n    const paths = {\n      \"vega\": \"https://cdn.jsdelivr.net/npm//vega@5?noext\",\n      \"vega-lib\": \"https://cdn.jsdelivr.net/npm//vega-lib?noext\",\n      \"vega-lite\": \"https://cdn.jsdelivr.net/npm//vega-lite@4.8.1?noext\",\n      \"vega-embed\": \"https://cdn.jsdelivr.net/npm//vega-embed@6?noext\",\n    };\n\n    function loadScript(lib) {\n      return new Promise(function(resolve, reject) {\n        var s = document.createElement('script');\n        s.src = paths[lib];\n        s.async = true;\n        s.onload = () => resolve(paths[lib]);\n        s.onerror = () => reject(`Error loading script: ${paths[lib]}`);\n        document.getElementsByTagName(\"head\")[0].appendChild(s);\n      });\n    }\n\n    function showError(err) {\n      outputDiv.innerHTML = `<div class=\"error\" style=\"color:red;\">${err}</div>`;\n      throw err;\n    }\n\n    function displayChart(vegaEmbed) {\n      vegaEmbed(outputDiv, spec, embedOpt)\n        .catch(err => showError(`Javascript Error: ${err.message}<br>This usually means there's a typo in your chart specification. See the javascript console for the full traceback.`));\n    }\n\n    if(typeof define === \"function\" && define.amd) {\n      requirejs.config({paths});\n      require([\"vega-embed\"], displayChart, err => showError(`Error loading script: ${err.message}`));\n    } else if (typeof vegaEmbed === \"function\") {\n      displayChart(vegaEmbed);\n    } else {\n      loadScript(\"vega\")\n        .then(() => loadScript(\"vega-lite\"))\n        .then(() => loadScript(\"vega-embed\"))\n        .catch(showError)\n        .then(() => displayChart(vegaEmbed));\n    }\n  })({\"config\": {\"view\": {\"continuousWidth\": 400, \"continuousHeight\": 300}}, \"data\": {\"url\": \"http://localhost:16533/e4cbde2904fabd8d3ef732ca46a10ece.json\"}, \"mark\": \"bar\", \"encoding\": {\"color\": {\"type\": \"nominal\", \"field\": \"technology\", \"title\": \"Technology\"}, \"x\": {\"type\": \"nominal\", \"field\": \"country\", \"sort\": \"-y\", \"title\": \"Country\"}, \"y\": {\"type\": \"quantitative\", \"aggregate\": \"mean\", \"field\": \"capacity\", \"stack\": true, \"title\": \"Mean Generation Capacity (MW)\"}}, \"height\": 500, \"title\": \"Mean Energy Generation Capacity by Source and Country (1990 - 2020)\", \"width\": 750, \"$schema\": \"https://vega.github.io/schema/vega-lite/v4.8.1.json\"}, {\"mode\": \"vega-lite\"});\n</script>",
      "text/plain": [
       "alt.Chart(...)"
      ]
     },
     "metadata": {},
     "execution_count": 7
    }
   ],
   "source": [
    "alt.Chart(data=types).mark_bar().encode(\n",
    "    x=alt.X(\"country:N\", title=\"Country\", sort=\"-y\"),\n",
    "    y=alt.Y(\"mean(capacity):Q\", title=\"Mean Generation Capacity (MW)\", stack=True),\n",
    "    color=alt.Color(\"technology:N\", title=\"Technology\"),\n",
    ").properties(\n",
    "    height=500,\n",
    "    width=750,\n",
    "    title=\"Mean Energy Generation Capacity by Source and Country (1990 - 2020)\",\n",
    ")"
   ]
  },
  {
   "cell_type": "code",
   "execution_count": null,
   "metadata": {},
   "outputs": [],
   "source": []
  }
 ]
}