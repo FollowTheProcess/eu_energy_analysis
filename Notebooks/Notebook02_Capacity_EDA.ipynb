{
 "metadata": {
  "language_info": {
   "codemirror_mode": {
    "name": "ipython",
    "version": 3
   },
   "file_extension": ".py",
   "mimetype": "text/x-python",
   "name": "python",
   "nbconvert_exporter": "python",
   "pygments_lexer": "ipython3",
   "version": "3.8.5-final"
  },
  "orig_nbformat": 2,
  "kernelspec": {
   "name": "python3",
   "display_name": "Python 3.8.5 64-bit",
   "metadata": {
    "interpreter": {
     "hash": "46379e25bbf99610639664e3f762b60a697f9d7166217a168a100658888c06a4"
    }
   }
  }
 },
 "nbformat": 4,
 "nbformat_minor": 2,
 "cells": [
  {
   "source": [
    "# Notebook 02: Generation Capacity EDA\n",
    "\n",
    "In this one we'll load in the cleaned data and just play around with it to see what we can learn"
   ],
   "cell_type": "markdown",
   "metadata": {}
  },
  {
   "cell_type": "code",
   "execution_count": 1,
   "metadata": {},
   "outputs": [
    {
     "output_type": "execute_result",
     "data": {
      "text/plain": [
       "DataTransformerRegistry.enable('data_server')"
      ]
     },
     "metadata": {},
     "execution_count": 1
    }
   ],
   "source": [
    "import pandas as pd\n",
    "from src.data.load_data import GenerationCapacity\n",
    "from pandas_profiling import ProfileReport\n",
    "import altair as alt\n",
    "import altair_data_server\n",
    "\n",
    "alt.data_transformers.enable('data_server')"
   ]
  },
  {
   "cell_type": "code",
   "execution_count": 2,
   "metadata": {},
   "outputs": [],
   "source": [
    "df = GenerationCapacity().load_cleaned()"
   ]
  },
  {
   "cell_type": "code",
   "execution_count": 3,
   "metadata": {},
   "outputs": [
    {
     "output_type": "stream",
     "name": "stdout",
     "text": [
      "<class 'pandas.core.frame.DataFrame'>\nInt64Index: 36333 entries, 0 to 37278\nData columns (total 13 columns):\n #   Column                 Non-Null Count  Dtype   \n---  ------                 --------------  -----   \n 0   ID                     36333 non-null  int64   \n 1   technology             36333 non-null  category\n 2   source                 36333 non-null  category\n 3   source_type            36333 non-null  category\n 4   year                   36333 non-null  int64   \n 5   country                36333 non-null  category\n 6   capacity_definition    36333 non-null  category\n 7   capacity               36333 non-null  float64 \n 8   energy_source_level_0  36333 non-null  int64   \n 9   energy_source_level_1  36333 non-null  int64   \n 10  energy_source_level_2  36333 non-null  int64   \n 11  energy_source_level_3  36333 non-null  int64   \n 12  technology_level       36333 non-null  int64   \ndtypes: category(5), float64(1), int64(7)\nmemory usage: 2.7 MB\n"
     ]
    }
   ],
   "source": [
    "df.info(memory_usage='deep')"
   ]
  },
  {
   "cell_type": "code",
   "execution_count": 4,
   "metadata": {},
   "outputs": [
    {
     "output_type": "execute_result",
     "data": {
      "text/plain": [
       "         ID                           technology  \\\n",
       "35866  2187  Other or unspecified energy sources   \n",
       "30050  3450             Renewable energy sources   \n",
       "28228  1628                   Biomass and biogas   \n",
       "581     581                              Nuclear   \n",
       "33651  3336                                Total   \n",
       "34051   372        Differently categorized solar   \n",
       "28171  1571                   Biomass and biogas   \n",
       "6552   4579                   Biomass and biogas   \n",
       "28420  1820                         Fossil fuels   \n",
       "27822  1222                                 Wind   \n",
       "\n",
       "                              source         source_type  year country  \\\n",
       "35866       ENTSO-E Power Statistics   Other association  2016      EE   \n",
       "30050            ENTSO-E Data Portal   Other association  2011      LT   \n",
       "28228            ENTSO-E Data Portal   Other association  2015      PT   \n",
       "581             Agencija za energijo            Ministry  2013      SI   \n",
       "33651  ENTSO-E Transparency Platform   Other association  2015      PL   \n",
       "34051       ENTSO-E Power Statistics   Other association  2016      CH   \n",
       "28171            ENTSO-E Data Portal   Other association  2011      IT   \n",
       "6552                        EUROSTAT  Statistical Office  2015      DK   \n",
       "28420            ENTSO-E Data Portal   Other association  2015      NL   \n",
       "27822            ENTSO-E Data Portal   Other association  2014      RO   \n",
       "\n",
       "      capacity_definition  capacity  energy_source_level_0  \\\n",
       "35866        Net capacity      0.00                      0   \n",
       "30050        Net capacity   1128.00                      0   \n",
       "28228        Net capacity    613.00                      0   \n",
       "581          Net capacity    696.00                      0   \n",
       "33651        Net capacity  35572.53                      1   \n",
       "34051        Net capacity      0.00                      0   \n",
       "28171        Net capacity      0.00                      0   \n",
       "6552              Unknown    105.00                      0   \n",
       "28420        Net capacity  25572.00                      0   \n",
       "27822        Net capacity   2944.00                      0   \n",
       "\n",
       "       energy_source_level_1  energy_source_level_2  energy_source_level_3  \\\n",
       "35866                      1                      1                      1   \n",
       "30050                      1                      0                      0   \n",
       "28228                      0                      0                      1   \n",
       "581                        1                      1                      1   \n",
       "33651                      0                      0                      0   \n",
       "34051                      0                      0                      0   \n",
       "28171                      0                      0                      1   \n",
       "6552                       0                      0                      1   \n",
       "28420                      1                      0                      0   \n",
       "27822                      0                      1                      1   \n",
       "\n",
       "       technology_level  \n",
       "35866                 1  \n",
       "30050                 0  \n",
       "28228                 1  \n",
       "581                   1  \n",
       "33651                 0  \n",
       "34051                 1  \n",
       "28171                 1  \n",
       "6552                  1  \n",
       "28420                 0  \n",
       "27822                 0  "
      ],
      "text/html": "<div>\n<style scoped>\n    .dataframe tbody tr th:only-of-type {\n        vertical-align: middle;\n    }\n\n    .dataframe tbody tr th {\n        vertical-align: top;\n    }\n\n    .dataframe thead th {\n        text-align: right;\n    }\n</style>\n<table border=\"1\" class=\"dataframe\">\n  <thead>\n    <tr style=\"text-align: right;\">\n      <th></th>\n      <th>ID</th>\n      <th>technology</th>\n      <th>source</th>\n      <th>source_type</th>\n      <th>year</th>\n      <th>country</th>\n      <th>capacity_definition</th>\n      <th>capacity</th>\n      <th>energy_source_level_0</th>\n      <th>energy_source_level_1</th>\n      <th>energy_source_level_2</th>\n      <th>energy_source_level_3</th>\n      <th>technology_level</th>\n    </tr>\n  </thead>\n  <tbody>\n    <tr>\n      <th>35866</th>\n      <td>2187</td>\n      <td>Other or unspecified energy sources</td>\n      <td>ENTSO-E Power Statistics</td>\n      <td>Other association</td>\n      <td>2016</td>\n      <td>EE</td>\n      <td>Net capacity</td>\n      <td>0.00</td>\n      <td>0</td>\n      <td>1</td>\n      <td>1</td>\n      <td>1</td>\n      <td>1</td>\n    </tr>\n    <tr>\n      <th>30050</th>\n      <td>3450</td>\n      <td>Renewable energy sources</td>\n      <td>ENTSO-E Data Portal</td>\n      <td>Other association</td>\n      <td>2011</td>\n      <td>LT</td>\n      <td>Net capacity</td>\n      <td>1128.00</td>\n      <td>0</td>\n      <td>1</td>\n      <td>0</td>\n      <td>0</td>\n      <td>0</td>\n    </tr>\n    <tr>\n      <th>28228</th>\n      <td>1628</td>\n      <td>Biomass and biogas</td>\n      <td>ENTSO-E Data Portal</td>\n      <td>Other association</td>\n      <td>2015</td>\n      <td>PT</td>\n      <td>Net capacity</td>\n      <td>613.00</td>\n      <td>0</td>\n      <td>0</td>\n      <td>0</td>\n      <td>1</td>\n      <td>1</td>\n    </tr>\n    <tr>\n      <th>581</th>\n      <td>581</td>\n      <td>Nuclear</td>\n      <td>Agencija za energijo</td>\n      <td>Ministry</td>\n      <td>2013</td>\n      <td>SI</td>\n      <td>Net capacity</td>\n      <td>696.00</td>\n      <td>0</td>\n      <td>1</td>\n      <td>1</td>\n      <td>1</td>\n      <td>1</td>\n    </tr>\n    <tr>\n      <th>33651</th>\n      <td>3336</td>\n      <td>Total</td>\n      <td>ENTSO-E Transparency Platform</td>\n      <td>Other association</td>\n      <td>2015</td>\n      <td>PL</td>\n      <td>Net capacity</td>\n      <td>35572.53</td>\n      <td>1</td>\n      <td>0</td>\n      <td>0</td>\n      <td>0</td>\n      <td>0</td>\n    </tr>\n    <tr>\n      <th>34051</th>\n      <td>372</td>\n      <td>Differently categorized solar</td>\n      <td>ENTSO-E Power Statistics</td>\n      <td>Other association</td>\n      <td>2016</td>\n      <td>CH</td>\n      <td>Net capacity</td>\n      <td>0.00</td>\n      <td>0</td>\n      <td>0</td>\n      <td>0</td>\n      <td>0</td>\n      <td>1</td>\n    </tr>\n    <tr>\n      <th>28171</th>\n      <td>1571</td>\n      <td>Biomass and biogas</td>\n      <td>ENTSO-E Data Portal</td>\n      <td>Other association</td>\n      <td>2011</td>\n      <td>IT</td>\n      <td>Net capacity</td>\n      <td>0.00</td>\n      <td>0</td>\n      <td>0</td>\n      <td>0</td>\n      <td>1</td>\n      <td>1</td>\n    </tr>\n    <tr>\n      <th>6552</th>\n      <td>4579</td>\n      <td>Biomass and biogas</td>\n      <td>EUROSTAT</td>\n      <td>Statistical Office</td>\n      <td>2015</td>\n      <td>DK</td>\n      <td>Unknown</td>\n      <td>105.00</td>\n      <td>0</td>\n      <td>0</td>\n      <td>0</td>\n      <td>1</td>\n      <td>1</td>\n    </tr>\n    <tr>\n      <th>28420</th>\n      <td>1820</td>\n      <td>Fossil fuels</td>\n      <td>ENTSO-E Data Portal</td>\n      <td>Other association</td>\n      <td>2015</td>\n      <td>NL</td>\n      <td>Net capacity</td>\n      <td>25572.00</td>\n      <td>0</td>\n      <td>1</td>\n      <td>0</td>\n      <td>0</td>\n      <td>0</td>\n    </tr>\n    <tr>\n      <th>27822</th>\n      <td>1222</td>\n      <td>Wind</td>\n      <td>ENTSO-E Data Portal</td>\n      <td>Other association</td>\n      <td>2014</td>\n      <td>RO</td>\n      <td>Net capacity</td>\n      <td>2944.00</td>\n      <td>0</td>\n      <td>0</td>\n      <td>1</td>\n      <td>1</td>\n      <td>0</td>\n    </tr>\n  </tbody>\n</table>\n</div>"
     },
     "metadata": {},
     "execution_count": 4
    }
   ],
   "source": [
    "df.sample(10)"
   ]
  },
  {
   "source": [
    "So what I want to do with this is:\n",
    "\n",
    "* Add a % of total capacity column which calculates on each unique combination of `['technology', 'year', 'country']`\n",
    "\n",
    "* So anything with technology == Total would just be 100%\n",
    "\n",
    "* But all the other technologies would be a % of that countries total generation for that year\n",
    "\n",
    "I'm not entirely sure how to do this..."
   ],
   "cell_type": "markdown",
   "metadata": {}
  },
  {
   "cell_type": "code",
   "execution_count": null,
   "metadata": {},
   "outputs": [],
   "source": []
  }
 ]
}